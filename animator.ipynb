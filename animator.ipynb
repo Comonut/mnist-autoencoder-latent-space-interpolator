{
  "nbformat": 4,
  "nbformat_minor": 0,
  "metadata": {
    "colab": {
      "name": "animator.ipynb",
      "version": "0.3.2",
      "views": {},
      "default_view": {},
      "provenance": []
    },
    "kernelspec": {
      "name": "python3",
      "display_name": "Python 3"
    }
  },
  "cells": [
    {
      "metadata": {
        "id": "VMTyatvuWDjZ",
        "colab_type": "code",
        "colab": {
          "autoexec": {
            "startup": false,
            "wait_interval": 0
          }
        }
      },
      "cell_type": "code",
      "source": [
        "from keras.layers import Input, Dense\n",
        "\n",
        "from keras.datasets import mnist\n",
        "import numpy as np\n",
        "\n",
        "\n",
        "\n",
        "from keras.layers import Input\n",
        "\n",
        "from keras.models import Model, Sequential\n",
        "\n",
        "from keras.layers.advanced_activations import LeakyReLU\n",
        "\n",
        "\n",
        "from keras.datasets import mnist\n",
        "\n",
        "\n",
        "from keras import initializers\n",
        "\n",
        "\n",
        "\n",
        "\n"
      ],
      "execution_count": 0,
      "outputs": []
    },
    {
      "metadata": {
        "id": "rkEkJP4YWmq2",
        "colab_type": "code",
        "colab": {
          "autoexec": {
            "startup": false,
            "wait_interval": 0
          }
        }
      },
      "cell_type": "code",
      "source": [
        "\n",
        "\n",
        "\n",
        "\n",
        "encoder = Sequential()\n",
        "encoder.add(Dense(256, input_dim= 784, kernel_initializer=initializers.RandomNormal(stddev=0.02)))\n",
        "encoder.add(LeakyReLU(0.2))\n",
        "encoder\n",
        "encoder.add(Dense(128))\n",
        "encoder.add(LeakyReLU(0.2))\n",
        "\n",
        "encoder.add(Dense(64))\n",
        "encoder.add(LeakyReLU(0.2))\n",
        "\n",
        "encoder.compile(optimizer='adadelta', loss='binary_crossentropy')\n",
        "\n",
        "decoder = Sequential()\n",
        "decoder.add(Dense(1024, input_dim=64, kernel_initializer=initializers.RandomNormal(stddev=0.02)))\n",
        "decoder.add(LeakyReLU(0.2))\n",
        "\n",
        "decoder.add(Dense(128))\n",
        "decoder.add(LeakyReLU(0.2))\n",
        "decoder.add(Dense(256))\n",
        "decoder.add(LeakyReLU(0.2))\n",
        "decoder.add(Dense(784,activation = 'sigmoid'))\n",
        "\n",
        "\n",
        "\n",
        "\n",
        "\n",
        "\n",
        "decoder.compile(optimizer='adadelta', loss='binary_crossentropy')\n",
        "\n",
        "# Combined network\n",
        "\n",
        "combinedInput = Input(shape=(784,))\n",
        "x = encoder(combinedInput)\n",
        "\n",
        "#x= concatenate([combinedInput,x])\n",
        "\n",
        "reconstruction = decoder(x)\n",
        "autoencoder = Model(inputs=combinedInput, outputs=reconstruction)\n",
        "autoencoder.compile(optimizer='adadelta', loss='binary_crossentropy')"
      ],
      "execution_count": 0,
      "outputs": []
    },
    {
      "metadata": {
        "id": "MSLzLnTBWOC-",
        "colab_type": "code",
        "colab": {
          "autoexec": {
            "startup": false,
            "wait_interval": 0
          }
        }
      },
      "cell_type": "code",
      "source": [
        ""
      ],
      "execution_count": 0,
      "outputs": []
    },
    {
      "metadata": {
        "id": "EPe1mhQNWQJ2",
        "colab_type": "code",
        "colab": {
          "autoexec": {
            "startup": false,
            "wait_interval": 0
          },
          "base_uri": "https://localhost:8080/",
          "height": 34
        },
        "outputId": "c01b6488-6943-4a0b-c3a9-0bf516453b97",
        "executionInfo": {
          "status": "ok",
          "timestamp": 1533386629762,
          "user_tz": -180,
          "elapsed": 1343,
          "user": {
            "displayName": "Alexander Daskalov",
            "photoUrl": "//lh4.googleusercontent.com/-00gSL9VUiJE/AAAAAAAAAAI/AAAAAAAAAV0/DYgEK1HCpQI/s50-c-k-no/photo.jpg",
            "userId": "104815229193171950146"
          }
        }
      },
      "cell_type": "code",
      "source": [
        "x_train = x_train.astype('float32') / 255.\n",
        "x_test = x_test.astype('float32') / 255.\n",
        "x_train = x_train.reshape((len(x_train), np.prod(x_train.shape[1:])))\n",
        "x_test = x_test.reshape((len(x_test), np.prod(x_test.shape[1:])))\n",
        "\n",
        "\n",
        "print(x_train.shape)\n"
      ],
      "execution_count": 212,
      "outputs": [
        {
          "output_type": "stream",
          "text": [
            "(60000, 784)\n"
          ],
          "name": "stdout"
        }
      ]
    },
    {
      "metadata": {
        "id": "-aLZ8aa7WR_e",
        "colab_type": "code",
        "colab": {
          "autoexec": {
            "startup": false,
            "wait_interval": 0
          },
          "base_uri": "https://localhost:8080/",
          "height": 102
        },
        "outputId": "925b950a-5e3e-4c1a-88fe-c1191427a960",
        "executionInfo": {
          "status": "ok",
          "timestamp": 1533386660254,
          "user_tz": -180,
          "elapsed": 30459,
          "user": {
            "displayName": "Alexander Daskalov",
            "photoUrl": "//lh4.googleusercontent.com/-00gSL9VUiJE/AAAAAAAAAAI/AAAAAAAAAV0/DYgEK1HCpQI/s50-c-k-no/photo.jpg",
            "userId": "104815229193171950146"
          }
        }
      },
      "cell_type": "code",
      "source": [
        "\n",
        "\n",
        "autoencoder.fit(x_train, x_train,\n",
        "                epochs=100,\n",
        "                batch_size=256,\n",
        "                shuffle=True)"
      ],
      "execution_count": 213,
      "outputs": [
        {
          "output_type": "stream",
          "text": [
            "Epoch 1/2\n",
            "60000/60000 [==============================] - 16s 259us/step - loss: 0.2509\n",
            "Epoch 2/2\n",
            "60000/60000 [==============================] - 13s 223us/step - loss: 0.0042\n"
          ],
          "name": "stdout"
        },
        {
          "output_type": "execute_result",
          "data": {
            "text/plain": [
              "<keras.callbacks.History at 0x7f55fae29cc0>"
            ]
          },
          "metadata": {
            "tags": []
          },
          "execution_count": 213
        }
      ]
    },
    {
      "metadata": {
        "id": "N0H2lHCFWXPX",
        "colab_type": "code",
        "colab": {
          "autoexec": {
            "startup": false,
            "wait_interval": 0
          }
        }
      },
      "cell_type": "code",
      "source": [
        "\n",
        "import matplotlib.pyplot as plt\n",
        "\n",
        "\n",
        "array = [1231,754,892,32,42,1629,123,144,876,92]\n"
      ],
      "execution_count": 0,
      "outputs": []
    },
    {
      "metadata": {
        "id": "NGGPeBT8uxtg",
        "colab_type": "code",
        "colab": {
          "autoexec": {
            "startup": false,
            "wait_interval": 0
          },
          "base_uri": "https://localhost:8080/",
          "height": 364
        },
        "outputId": "cc7b3af8-16e1-4da4-b6b6-7d76481081b3",
        "executionInfo": {
          "status": "ok",
          "timestamp": 1533386681198,
          "user_tz": -180,
          "elapsed": 20150,
          "user": {
            "displayName": "Alexander Daskalov",
            "photoUrl": "//lh4.googleusercontent.com/-00gSL9VUiJE/AAAAAAAAAAI/AAAAAAAAAV0/DYgEK1HCpQI/s50-c-k-no/photo.jpg",
            "userId": "104815229193171950146"
          }
        }
      },
      "cell_type": "code",
      "source": [
        "counter = 432\n",
        "for q in range(1):\n",
        "  a = x_test[array[0]]\n",
        "  a2 = x_test[array[9]]\n",
        "  a.shape = (1,784)\n",
        "\n",
        "  a2.shape = (1,784)\n",
        "  b = encoder.predict(a)\n",
        "  b2 = encoder.predict(a2)\n",
        "  print(b.shape)\n",
        "\n",
        "  c = (b - b2)/48\n",
        " \n",
        "\n",
        "\n",
        "  \n",
        "  for q in range(48):\n",
        "    h = b2 + c*q\n",
        "\n",
        "\n",
        "\n",
        "    recons = decoder.predict(h)\n",
        "\n",
        "    recons.shape = (28,28)\n",
        "\n",
        "    plt.imshow(recons)\n",
        "    plt.savefig('./' + str(counter)+'.png')\n",
        "   \n",
        "    counter +=1 "
      ],
      "execution_count": 215,
      "outputs": [
        {
          "output_type": "stream",
          "text": [
            "(1, 64)\n"
          ],
          "name": "stdout"
        },
        {
          "output_type": "display_data",
          
          "metadata": {
            "tags": []
          }
        }
      ]
    },
    {
      "metadata": {
        "id": "_GMZt2Py84dM",
        "colab_type": "text"
      },
      "cell_type": "markdown",
      "source": [
        "Going through all numbers\n",
        "\n",
        "![alt text](http://gifmaker.org/download/20180804-01-QlSJ3Z1ZA5saNrgJ/GIFMaker.org_f1PlRK.gif)\n",
        "\n",
        "\n"
      ]
    }
  ]
}